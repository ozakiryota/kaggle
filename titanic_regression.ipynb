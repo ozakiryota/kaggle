{
  "nbformat": 4,
  "nbformat_minor": 0,
  "metadata": {
    "colab": {
      "name": "titanic_regression.ipynb",
      "provenance": [],
      "authorship_tag": "ABX9TyNMn8VVHTyrqMd7Wl5g5bpy",
      "include_colab_link": true
    },
    "kernelspec": {
      "name": "python3",
      "display_name": "Python 3"
    },
    "language_info": {
      "name": "python"
    },
    "accelerator": "GPU"
  },
  "cells": [
    {
      "cell_type": "markdown",
      "metadata": {
        "id": "view-in-github",
        "colab_type": "text"
      },
      "source": [
        "<a href=\"https://colab.research.google.com/github/ozakiryota/kaggle/blob/main/titanic_regression.ipynb\" target=\"_parent\"><img src=\"https://colab.research.google.com/assets/colab-badge.svg\" alt=\"Open In Colab\"/></a>"
      ]
    },
    {
      "cell_type": "markdown",
      "source": [
        "# Downlad and check datasets"
      ],
      "metadata": {
        "id": "vES8SYVUHzwn"
      }
    },
    {
      "cell_type": "markdown",
      "source": [
        "Activate Kaggle API"
      ],
      "metadata": {
        "id": "9n4MhU4eCTZl"
      }
    },
    {
      "cell_type": "code",
      "source": [
        "from google.colab import files\n",
        "import os\n",
        "\n",
        "jason_path = \"/root/.kaggle/kaggle.json\"\n",
        "\n",
        "if not os.path.exists(jason_path):\n",
        "    uploaded = files.upload()\n",
        "\n",
        "    for fn in uploaded.keys():\n",
        "        print('User uploaded file \"{name}\" with length {length} bytes'.format(\n",
        "            name=fn, length=len(uploaded[fn])))\n",
        "\n",
        "    # Then move kaggle.json into the folder where the API expects to find it.\n",
        "    !mkdir -p /root/.kaggle/ && mv kaggle.json /root/.kaggle/ && chmod 600 /root/.kaggle/kaggle.json\n",
        "\n",
        "else:\n",
        "    print(jason_path, \"is already exists.\")"
      ],
      "metadata": {
        "colab": {
          "base_uri": "https://localhost:8080/"
        },
        "id": "MtAsLdCvCNbX",
        "outputId": "af370f2c-3514-41fd-c41e-a5f63df57e9a"
      },
      "execution_count": 39,
      "outputs": [
        {
          "output_type": "stream",
          "name": "stdout",
          "text": [
            "/root/.kaggle/kaggle.json is already exists.\n"
          ]
        }
      ]
    },
    {
      "cell_type": "markdown",
      "source": [
        "Download the datasets"
      ],
      "metadata": {
        "id": "0aSLJ2GuBvoT"
      }
    },
    {
      "cell_type": "code",
      "source": [
        "!pip install kaggle\n",
        "!kaggle competitions download -c titanic"
      ],
      "metadata": {
        "colab": {
          "base_uri": "https://localhost:8080/"
        },
        "id": "J9DArlDbBzGo",
        "outputId": "140f2896-4e3b-4f36-85a1-06b671da1730"
      },
      "execution_count": 40,
      "outputs": [
        {
          "output_type": "stream",
          "name": "stdout",
          "text": [
            "Requirement already satisfied: kaggle in /usr/local/lib/python3.7/dist-packages (1.5.12)\n",
            "Requirement already satisfied: six>=1.10 in /usr/local/lib/python3.7/dist-packages (from kaggle) (1.15.0)\n",
            "Requirement already satisfied: certifi in /usr/local/lib/python3.7/dist-packages (from kaggle) (2021.10.8)\n",
            "Requirement already satisfied: requests in /usr/local/lib/python3.7/dist-packages (from kaggle) (2.23.0)\n",
            "Requirement already satisfied: urllib3 in /usr/local/lib/python3.7/dist-packages (from kaggle) (1.24.3)\n",
            "Requirement already satisfied: python-dateutil in /usr/local/lib/python3.7/dist-packages (from kaggle) (2.8.2)\n",
            "Requirement already satisfied: python-slugify in /usr/local/lib/python3.7/dist-packages (from kaggle) (5.0.2)\n",
            "Requirement already satisfied: tqdm in /usr/local/lib/python3.7/dist-packages (from kaggle) (4.62.3)\n",
            "Requirement already satisfied: text-unidecode>=1.3 in /usr/local/lib/python3.7/dist-packages (from python-slugify->kaggle) (1.3)\n",
            "Requirement already satisfied: idna<3,>=2.5 in /usr/local/lib/python3.7/dist-packages (from requests->kaggle) (2.10)\n",
            "Requirement already satisfied: chardet<4,>=3.0.2 in /usr/local/lib/python3.7/dist-packages (from requests->kaggle) (3.0.4)\n",
            "Warning: Looks like you're using an outdated API Version, please consider updating (server 1.5.12 / client 1.5.4)\n",
            "test.csv: Skipping, found more recently modified local copy (use --force to force download)\n",
            "train.csv: Skipping, found more recently modified local copy (use --force to force download)\n",
            "gender_submission.csv: Skipping, found more recently modified local copy (use --force to force download)\n"
          ]
        }
      ]
    },
    {
      "cell_type": "markdown",
      "source": [
        "Check the datasets"
      ],
      "metadata": {
        "id": "EXSUy5YOBn-g"
      }
    },
    {
      "cell_type": "code",
      "execution_count": 41,
      "metadata": {
        "colab": {
          "base_uri": "https://localhost:8080/",
          "height": 567
        },
        "id": "f5aWDaOv4w0U",
        "outputId": "84bf7f88-51b7-48bd-c44e-8b334c88fe17"
      },
      "outputs": [
        {
          "output_type": "stream",
          "name": "stdout",
          "text": [
            "<class 'pandas.core.frame.DataFrame'>\n",
            "RangeIndex: 891 entries, 0 to 890\n",
            "Data columns (total 12 columns):\n",
            " #   Column       Non-Null Count  Dtype  \n",
            "---  ------       --------------  -----  \n",
            " 0   PassengerId  891 non-null    int64  \n",
            " 1   Survived     891 non-null    int64  \n",
            " 2   Pclass       891 non-null    int64  \n",
            " 3   Name         891 non-null    object \n",
            " 4   Sex          891 non-null    object \n",
            " 5   Age          714 non-null    float64\n",
            " 6   SibSp        891 non-null    int64  \n",
            " 7   Parch        891 non-null    int64  \n",
            " 8   Ticket       891 non-null    object \n",
            " 9   Fare         891 non-null    float64\n",
            " 10  Cabin        204 non-null    object \n",
            " 11  Embarked     889 non-null    object \n",
            "dtypes: float64(2), int64(5), object(5)\n",
            "memory usage: 83.7+ KB\n",
            "None\n"
          ]
        },
        {
          "output_type": "execute_result",
          "data": {
            "text/html": [
              "\n",
              "  <div id=\"df-fb5b3b9d-9a9d-4864-bd78-cc785c475469\">\n",
              "    <div class=\"colab-df-container\">\n",
              "      <div>\n",
              "<style scoped>\n",
              "    .dataframe tbody tr th:only-of-type {\n",
              "        vertical-align: middle;\n",
              "    }\n",
              "\n",
              "    .dataframe tbody tr th {\n",
              "        vertical-align: top;\n",
              "    }\n",
              "\n",
              "    .dataframe thead th {\n",
              "        text-align: right;\n",
              "    }\n",
              "</style>\n",
              "<table border=\"1\" class=\"dataframe\">\n",
              "  <thead>\n",
              "    <tr style=\"text-align: right;\">\n",
              "      <th></th>\n",
              "      <th>PassengerId</th>\n",
              "      <th>Survived</th>\n",
              "      <th>Pclass</th>\n",
              "      <th>Name</th>\n",
              "      <th>Sex</th>\n",
              "      <th>Age</th>\n",
              "      <th>SibSp</th>\n",
              "      <th>Parch</th>\n",
              "      <th>Ticket</th>\n",
              "      <th>Fare</th>\n",
              "      <th>Cabin</th>\n",
              "      <th>Embarked</th>\n",
              "    </tr>\n",
              "  </thead>\n",
              "  <tbody>\n",
              "    <tr>\n",
              "      <th>0</th>\n",
              "      <td>1</td>\n",
              "      <td>0</td>\n",
              "      <td>3</td>\n",
              "      <td>Braund, Mr. Owen Harris</td>\n",
              "      <td>male</td>\n",
              "      <td>22.0</td>\n",
              "      <td>1</td>\n",
              "      <td>0</td>\n",
              "      <td>A/5 21171</td>\n",
              "      <td>7.2500</td>\n",
              "      <td>NaN</td>\n",
              "      <td>S</td>\n",
              "    </tr>\n",
              "    <tr>\n",
              "      <th>1</th>\n",
              "      <td>2</td>\n",
              "      <td>1</td>\n",
              "      <td>1</td>\n",
              "      <td>Cumings, Mrs. John Bradley (Florence Briggs Th...</td>\n",
              "      <td>female</td>\n",
              "      <td>38.0</td>\n",
              "      <td>1</td>\n",
              "      <td>0</td>\n",
              "      <td>PC 17599</td>\n",
              "      <td>71.2833</td>\n",
              "      <td>C85</td>\n",
              "      <td>C</td>\n",
              "    </tr>\n",
              "    <tr>\n",
              "      <th>2</th>\n",
              "      <td>3</td>\n",
              "      <td>1</td>\n",
              "      <td>3</td>\n",
              "      <td>Heikkinen, Miss. Laina</td>\n",
              "      <td>female</td>\n",
              "      <td>26.0</td>\n",
              "      <td>0</td>\n",
              "      <td>0</td>\n",
              "      <td>STON/O2. 3101282</td>\n",
              "      <td>7.9250</td>\n",
              "      <td>NaN</td>\n",
              "      <td>S</td>\n",
              "    </tr>\n",
              "    <tr>\n",
              "      <th>3</th>\n",
              "      <td>4</td>\n",
              "      <td>1</td>\n",
              "      <td>1</td>\n",
              "      <td>Futrelle, Mrs. Jacques Heath (Lily May Peel)</td>\n",
              "      <td>female</td>\n",
              "      <td>35.0</td>\n",
              "      <td>1</td>\n",
              "      <td>0</td>\n",
              "      <td>113803</td>\n",
              "      <td>53.1000</td>\n",
              "      <td>C123</td>\n",
              "      <td>S</td>\n",
              "    </tr>\n",
              "    <tr>\n",
              "      <th>4</th>\n",
              "      <td>5</td>\n",
              "      <td>0</td>\n",
              "      <td>3</td>\n",
              "      <td>Allen, Mr. William Henry</td>\n",
              "      <td>male</td>\n",
              "      <td>35.0</td>\n",
              "      <td>0</td>\n",
              "      <td>0</td>\n",
              "      <td>373450</td>\n",
              "      <td>8.0500</td>\n",
              "      <td>NaN</td>\n",
              "      <td>S</td>\n",
              "    </tr>\n",
              "  </tbody>\n",
              "</table>\n",
              "</div>\n",
              "      <button class=\"colab-df-convert\" onclick=\"convertToInteractive('df-fb5b3b9d-9a9d-4864-bd78-cc785c475469')\"\n",
              "              title=\"Convert this dataframe to an interactive table.\"\n",
              "              style=\"display:none;\">\n",
              "        \n",
              "  <svg xmlns=\"http://www.w3.org/2000/svg\" height=\"24px\"viewBox=\"0 0 24 24\"\n",
              "       width=\"24px\">\n",
              "    <path d=\"M0 0h24v24H0V0z\" fill=\"none\"/>\n",
              "    <path d=\"M18.56 5.44l.94 2.06.94-2.06 2.06-.94-2.06-.94-.94-2.06-.94 2.06-2.06.94zm-11 1L8.5 8.5l.94-2.06 2.06-.94-2.06-.94L8.5 2.5l-.94 2.06-2.06.94zm10 10l.94 2.06.94-2.06 2.06-.94-2.06-.94-.94-2.06-.94 2.06-2.06.94z\"/><path d=\"M17.41 7.96l-1.37-1.37c-.4-.4-.92-.59-1.43-.59-.52 0-1.04.2-1.43.59L10.3 9.45l-7.72 7.72c-.78.78-.78 2.05 0 2.83L4 21.41c.39.39.9.59 1.41.59.51 0 1.02-.2 1.41-.59l7.78-7.78 2.81-2.81c.8-.78.8-2.07 0-2.86zM5.41 20L4 18.59l7.72-7.72 1.47 1.35L5.41 20z\"/>\n",
              "  </svg>\n",
              "      </button>\n",
              "      \n",
              "  <style>\n",
              "    .colab-df-container {\n",
              "      display:flex;\n",
              "      flex-wrap:wrap;\n",
              "      gap: 12px;\n",
              "    }\n",
              "\n",
              "    .colab-df-convert {\n",
              "      background-color: #E8F0FE;\n",
              "      border: none;\n",
              "      border-radius: 50%;\n",
              "      cursor: pointer;\n",
              "      display: none;\n",
              "      fill: #1967D2;\n",
              "      height: 32px;\n",
              "      padding: 0 0 0 0;\n",
              "      width: 32px;\n",
              "    }\n",
              "\n",
              "    .colab-df-convert:hover {\n",
              "      background-color: #E2EBFA;\n",
              "      box-shadow: 0px 1px 2px rgba(60, 64, 67, 0.3), 0px 1px 3px 1px rgba(60, 64, 67, 0.15);\n",
              "      fill: #174EA6;\n",
              "    }\n",
              "\n",
              "    [theme=dark] .colab-df-convert {\n",
              "      background-color: #3B4455;\n",
              "      fill: #D2E3FC;\n",
              "    }\n",
              "\n",
              "    [theme=dark] .colab-df-convert:hover {\n",
              "      background-color: #434B5C;\n",
              "      box-shadow: 0px 1px 3px 1px rgba(0, 0, 0, 0.15);\n",
              "      filter: drop-shadow(0px 1px 2px rgba(0, 0, 0, 0.3));\n",
              "      fill: #FFFFFF;\n",
              "    }\n",
              "  </style>\n",
              "\n",
              "      <script>\n",
              "        const buttonEl =\n",
              "          document.querySelector('#df-fb5b3b9d-9a9d-4864-bd78-cc785c475469 button.colab-df-convert');\n",
              "        buttonEl.style.display =\n",
              "          google.colab.kernel.accessAllowed ? 'block' : 'none';\n",
              "\n",
              "        async function convertToInteractive(key) {\n",
              "          const element = document.querySelector('#df-fb5b3b9d-9a9d-4864-bd78-cc785c475469');\n",
              "          const dataTable =\n",
              "            await google.colab.kernel.invokeFunction('convertToInteractive',\n",
              "                                                     [key], {});\n",
              "          if (!dataTable) return;\n",
              "\n",
              "          const docLinkHtml = 'Like what you see? Visit the ' +\n",
              "            '<a target=\"_blank\" href=https://colab.research.google.com/notebooks/data_table.ipynb>data table notebook</a>'\n",
              "            + ' to learn more about interactive tables.';\n",
              "          element.innerHTML = '';\n",
              "          dataTable['output_type'] = 'display_data';\n",
              "          await google.colab.output.renderOutput(dataTable, element);\n",
              "          const docLink = document.createElement('div');\n",
              "          docLink.innerHTML = docLinkHtml;\n",
              "          element.appendChild(docLink);\n",
              "        }\n",
              "      </script>\n",
              "    </div>\n",
              "  </div>\n",
              "  "
            ],
            "text/plain": [
              "   PassengerId  Survived  Pclass  ...     Fare Cabin  Embarked\n",
              "0            1         0       3  ...   7.2500   NaN         S\n",
              "1            2         1       1  ...  71.2833   C85         C\n",
              "2            3         1       3  ...   7.9250   NaN         S\n",
              "3            4         1       1  ...  53.1000  C123         S\n",
              "4            5         0       3  ...   8.0500   NaN         S\n",
              "\n",
              "[5 rows x 12 columns]"
            ]
          },
          "metadata": {},
          "execution_count": 41
        }
      ],
      "source": [
        "import pandas as pd\n",
        "\n",
        "df = pd.read_csv(\"/content/train.csv\")\n",
        "# df = pd.read_csv(\"/content/test.csv\")\n",
        "print(df.info())\n",
        "df.head()"
      ]
    },
    {
      "cell_type": "markdown",
      "source": [
        "# Fuctions and class"
      ],
      "metadata": {
        "id": "MMQnI91-H6jt"
      }
    },
    {
      "cell_type": "code",
      "source": [
        "import pandas as pd\n",
        "\n",
        "def makeDataList(csv_path):\n",
        "    datalist = pd.read_csv(csv_path)\n",
        "    datalist = datalist.drop([\"PassengerId\", \"Name\", \"Ticket\", \"Cabin\"], axis=1)\n",
        "    # datalist[\"Sex\"] = datalist[\"Sex\"].replace(\"male\", 0)\n",
        "    # datalist[\"Sex\"] = datalist[\"Sex\"].replace(\"female\", 1)\n",
        "    # datalist[\"Embarked\"] = datalist[\"Embarked\"].replace(\"C\", 0)\n",
        "    # datalist[\"Embarked\"] = datalist[\"Embarked\"].replace(\"Q\", 1)\n",
        "    # datalist[\"Embarked\"] = datalist[\"Embarked\"].replace(\"S\", 2)\n",
        "    datalist = pd.get_dummies(datalist)\n",
        "    datalist = datalist.fillna(-1)\n",
        "\n",
        "    return datalist"
      ],
      "metadata": {
        "id": "dChbM1OBC4n2"
      },
      "execution_count": 42,
      "outputs": []
    },
    {
      "cell_type": "code",
      "source": [
        "## TEST\n",
        "datalist = makeDataList(\"/content/train.csv\")\n",
        "print(\"datalist.values[0] =\", datalist.values[0])\n",
        "print(datalist)"
      ],
      "metadata": {
        "colab": {
          "base_uri": "https://localhost:8080/"
        },
        "id": "2hDMnv2lI462",
        "outputId": "f09fcc86-1197-4489-c59f-4d1bd92c91a8"
      },
      "execution_count": 43,
      "outputs": [
        {
          "output_type": "stream",
          "name": "stdout",
          "text": [
            "datalist.values[0] = [ 0.    3.   22.    1.    0.    7.25  0.    1.    0.    0.    1.  ]\n",
            "     Survived  Pclass   Age  ...  Embarked_C  Embarked_Q  Embarked_S\n",
            "0           0       3  22.0  ...           0           0           1\n",
            "1           1       1  38.0  ...           1           0           0\n",
            "2           1       3  26.0  ...           0           0           1\n",
            "3           1       1  35.0  ...           0           0           1\n",
            "4           0       3  35.0  ...           0           0           1\n",
            "..        ...     ...   ...  ...         ...         ...         ...\n",
            "886         0       2  27.0  ...           0           0           1\n",
            "887         1       1  19.0  ...           0           0           1\n",
            "888         0       3  -1.0  ...           0           0           1\n",
            "889         1       1  26.0  ...           1           0           0\n",
            "890         0       3  32.0  ...           0           1           0\n",
            "\n",
            "[891 rows x 11 columns]\n"
          ]
        }
      ]
    },
    {
      "cell_type": "code",
      "source": [
        "## TEST\n",
        "from sklearn.model_selection import train_test_split\n",
        "\n",
        "train_datalist, val_datalist = train_test_split(datalist, test_size=0.1, random_state=1234, shuffle=True)\n",
        "print(train_datalist)\n",
        "print(val_datalist)"
      ],
      "metadata": {
        "colab": {
          "base_uri": "https://localhost:8080/"
        },
        "id": "Zp00Wnz7LxKz",
        "outputId": "edb600cf-8518-4161-ddf3-0c5ead0bddde"
      },
      "execution_count": 44,
      "outputs": [
        {
          "output_type": "stream",
          "name": "stdout",
          "text": [
            "     Survived  Pclass   Age  ...  Embarked_C  Embarked_Q  Embarked_S\n",
            "267         1       3  25.0  ...           0           0           1\n",
            "635         1       2  28.0  ...           0           0           1\n",
            "473         1       2  23.0  ...           1           0           0\n",
            "207         1       3  26.0  ...           1           0           0\n",
            "290         1       1  26.0  ...           0           0           1\n",
            "..        ...     ...   ...  ...         ...         ...         ...\n",
            "204         1       3  18.0  ...           0           0           1\n",
            "53          1       2  29.0  ...           0           0           1\n",
            "294         0       3  24.0  ...           0           0           1\n",
            "723         0       2  50.0  ...           0           0           1\n",
            "815         0       1  -1.0  ...           0           0           1\n",
            "\n",
            "[801 rows x 11 columns]\n",
            "     Survived  Pclass   Age  ...  Embarked_C  Embarked_Q  Embarked_S\n",
            "523         1       1  44.0  ...           1           0           0\n",
            "778         0       3  -1.0  ...           0           1           0\n",
            "760         0       3  -1.0  ...           0           0           1\n",
            "496         1       1  54.0  ...           1           0           0\n",
            "583         0       1  36.0  ...           1           0           0\n",
            "..        ...     ...   ...  ...         ...         ...         ...\n",
            "72          0       2  21.0  ...           0           0           1\n",
            "271         1       3  25.0  ...           0           0           1\n",
            "281         0       3  28.0  ...           0           0           1\n",
            "230         1       1  35.0  ...           0           0           1\n",
            "347         1       3  -1.0  ...           0           0           1\n",
            "\n",
            "[90 rows x 11 columns]\n"
          ]
        }
      ]
    },
    {
      "cell_type": "code",
      "source": [
        "import numpy as np\n",
        "\n",
        "import torch.utils.data as data\n",
        "\n",
        "class Dataset(data.Dataset):\n",
        "    def __init__(self, datalist):\n",
        "        self.datalist = datalist\n",
        "\n",
        "    def __len__(self):\n",
        "        return len(self.datalist.values)\n",
        "    \n",
        "    def __getitem__(self, index):\n",
        "        inputs = self.datalist.drop([\"Survived\"], axis=1).values[index].astype(np.float32)\n",
        "        labels = self.datalist[\"Survived\"].values[index].astype(np.long)\n",
        "        return inputs, labels"
      ],
      "metadata": {
        "id": "fIuzpP6_O3vu"
      },
      "execution_count": 45,
      "outputs": []
    },
    {
      "cell_type": "code",
      "source": [
        "## TEST\n",
        "dataset = Dataset(datalist)\n",
        "print(\"dataset.__len__() =\", dataset.__len__())\n",
        "print(\"dataset.__getitem__(index=0)[0] =\", dataset.__getitem__(index=0)[0])\n",
        "print(\"dataset.__getitem__(index=0)[1] =\", dataset.__getitem__(index=0)[1])"
      ],
      "metadata": {
        "colab": {
          "base_uri": "https://localhost:8080/"
        },
        "id": "jggJqya8bPtw",
        "outputId": "3cf0f90b-025d-42ae-c2fe-8cec493ddd6b"
      },
      "execution_count": 46,
      "outputs": [
        {
          "output_type": "stream",
          "name": "stdout",
          "text": [
            "dataset.__len__() = 891\n",
            "dataset.__getitem__(index=0)[0] = [ 3.   22.    1.    0.    7.25  0.    1.    0.    0.    1.  ]\n",
            "dataset.__getitem__(index=0)[1] = 0\n"
          ]
        }
      ]
    },
    {
      "cell_type": "code",
      "source": [
        "## TEST\n",
        "import torch\n",
        "\n",
        "batch_size = 10\n",
        "dataloader = torch.utils.data.DataLoader(dataset, batch_size=batch_size, shuffle=True, drop_last=True)\n",
        "batch_itr = iter(dataloader)\n",
        "inputs, labels = next(batch_itr)\n",
        "\n",
        "print(\"inputs = \", inputs)\n",
        "print(\"inputs.size() = \", inputs.size())\n",
        "print(\"labels = \", labels)\n",
        "print(\"labels.size() = \", labels.size())"
      ],
      "metadata": {
        "colab": {
          "base_uri": "https://localhost:8080/"
        },
        "id": "40EferJkiFey",
        "outputId": "9556b609-817b-40dc-dcc6-0972856b4e79"
      },
      "execution_count": 47,
      "outputs": [
        {
          "output_type": "stream",
          "name": "stdout",
          "text": [
            "inputs =  tensor([[ 3.0000, 41.0000,  0.0000,  5.0000, 39.6875,  1.0000,  0.0000,  0.0000,\n",
            "          0.0000,  1.0000],\n",
            "        [ 3.0000,  2.0000,  3.0000,  1.0000, 21.0750,  0.0000,  1.0000,  0.0000,\n",
            "          0.0000,  1.0000],\n",
            "        [ 3.0000, 21.0000,  2.0000,  2.0000, 34.3750,  1.0000,  0.0000,  0.0000,\n",
            "          0.0000,  1.0000],\n",
            "        [ 1.0000, 63.0000,  1.0000,  0.0000, 77.9583,  1.0000,  0.0000,  0.0000,\n",
            "          0.0000,  1.0000],\n",
            "        [ 2.0000, 34.0000,  0.0000,  0.0000, 13.0000,  0.0000,  1.0000,  0.0000,\n",
            "          0.0000,  1.0000],\n",
            "        [ 3.0000, 17.0000,  4.0000,  2.0000,  7.9250,  1.0000,  0.0000,  0.0000,\n",
            "          0.0000,  1.0000],\n",
            "        [ 2.0000, 36.0000,  0.0000,  0.0000, 13.0000,  0.0000,  1.0000,  0.0000,\n",
            "          0.0000,  1.0000],\n",
            "        [ 2.0000, 35.0000,  0.0000,  0.0000, 26.0000,  0.0000,  1.0000,  0.0000,\n",
            "          0.0000,  1.0000],\n",
            "        [ 3.0000,  3.0000,  3.0000,  1.0000, 21.0750,  1.0000,  0.0000,  0.0000,\n",
            "          0.0000,  1.0000],\n",
            "        [ 3.0000, 22.0000,  0.0000,  0.0000,  7.8958,  0.0000,  1.0000,  0.0000,\n",
            "          0.0000,  1.0000]])\n",
            "inputs.size() =  torch.Size([10, 10])\n",
            "labels =  tensor([0, 0, 0, 1, 0, 1, 0, 0, 0, 0])\n",
            "labels.size() =  torch.Size([10])\n"
          ]
        }
      ]
    },
    {
      "cell_type": "code",
      "source": [
        "from torch import nn\n",
        "\n",
        "class Network(nn.Module):\n",
        "    def __init__(self, dim_inputs, dim_mid, dim_outputs, dropout_rate):\n",
        "        super().__init__()\n",
        "\n",
        "        self.fc = nn.Sequential(\n",
        "            nn.Linear(dim_inputs, dim_mid),\n",
        "            nn.ReLU(),\n",
        "            nn.Dropout(p=dropout_rate),\n",
        "            nn.Linear(dim_mid, dim_mid),\n",
        "            nn.ReLU(),\n",
        "            nn.Dropout(p=dropout_rate),\n",
        "            nn.Linear(dim_mid, dim_mid),\n",
        "            nn.ReLU(),\n",
        "            nn.Dropout(p=dropout_rate),\n",
        "            nn.Linear(dim_mid, dim_outputs)\n",
        "        )\n",
        "\n",
        "    def forward(self, x):\n",
        "        x = self.fc(x)\n",
        "        return x"
      ],
      "metadata": {
        "id": "Lyen2FGkgGmB"
      },
      "execution_count": 48,
      "outputs": []
    },
    {
      "cell_type": "code",
      "source": [
        "## TEST\n",
        "net = Network(len(dataset.__getitem__(index=0)[0]), 64, 2, dropout_rate=0.1)\n",
        "outputs = net(inputs)\n",
        "print(\"outputs = \", outputs)"
      ],
      "metadata": {
        "colab": {
          "base_uri": "https://localhost:8080/"
        },
        "id": "eqdqB5Ppjmn5",
        "outputId": "0d13ab5c-9faa-4d9f-fb73-6cc1b710b0c7"
      },
      "execution_count": 49,
      "outputs": [
        {
          "output_type": "stream",
          "name": "stdout",
          "text": [
            "outputs =  tensor([[ 0.1735, -0.1588],\n",
            "        [-0.0244, -0.1909],\n",
            "        [ 0.4017, -0.4132],\n",
            "        [-0.5275, -0.1364],\n",
            "        [-0.0888, -0.1229],\n",
            "        [-0.0058, -0.1128],\n",
            "        [-0.0611, -0.1817],\n",
            "        [ 0.2359,  0.0511],\n",
            "        [ 0.4188, -0.0711],\n",
            "        [-0.2450, -0.3698]], grad_fn=<AddmmBackward0>)\n"
          ]
        }
      ]
    },
    {
      "cell_type": "markdown",
      "source": [
        "# Training"
      ],
      "metadata": {
        "id": "UWV_Z_wvAQAy"
      }
    },
    {
      "cell_type": "code",
      "source": [
        "import time\n",
        "import matplotlib.pyplot as plt\n",
        "\n",
        "from sklearn.model_selection import train_test_split\n",
        "\n",
        "import torch\n",
        "from torch import nn\n",
        "import torch.optim as optim\n",
        "\n",
        "class Trainer:\n",
        "    def __init__(self, csv_path, num_epochs, batch_size, lr, save_weights_path):\n",
        "        self.device = torch.device(\"cuda:0\" if torch.cuda.is_available() else \"cpu\")\n",
        "        print(\"self.device = \", self.device)\n",
        "        \n",
        "        datalist = makeDataList(csv_path)\n",
        "        train_datalist, val_datalist = train_test_split(datalist, test_size=0.1, random_state=1234, shuffle=True)\n",
        "        train_dataset = Dataset(train_datalist)\n",
        "        val_dataset = Dataset(val_datalist)\n",
        "        train_dataloader = torch.utils.data.DataLoader(train_dataset, batch_size=batch_size, shuffle=True, drop_last=True)\n",
        "        val_dataloader = torch.utils.data.DataLoader(val_dataset, batch_size=batch_size, shuffle=False, drop_last=False)\n",
        "        \n",
        "        self.num_epochs = num_epochs\n",
        "        self.dataloaders_dict = {\"train\": train_dataloader, \"val\": val_dataloader}\n",
        "        self.net = Network(len(train_dataset.__getitem__(index=0)[0]), 64, 2, dropout_rate=0.1)\n",
        "        self.net.to(self.device)\n",
        "        print(net)\n",
        "        self.criterion = nn.CrossEntropyLoss()\n",
        "        self.optimizer = optim.Adam(self.net.parameters(), lr=lr)\n",
        "\n",
        "    def train(self):\n",
        "        ## time\n",
        "        start_clock = time.time()\n",
        "        ## record\n",
        "        record_train_loss = []\n",
        "        record_val_loss = []\n",
        "        record_loss_dict = {\"train\": [], \"val\": []}\n",
        "        ## loop\n",
        "        for epoch in range(self.num_epochs):\n",
        "            if epoch == 0 or not (epoch+1) % (num_epochs // 10):\n",
        "                print(\"----------\")\n",
        "                print(\"Epoch {}/{}\".format(epoch+1, self.num_epochs))\n",
        "            ## phase\n",
        "            for phase in [\"train\", \"val\"]:\n",
        "                ## setting\n",
        "                if phase == \"train\":\n",
        "                    self.net.train()\n",
        "                else:\n",
        "                    self.net.eval()\n",
        "                ## record\n",
        "                loss_epoch = 0.0\n",
        "                for inputs, labels in self.dataloaders_dict[phase]:\n",
        "                    inputs = inputs.to(self.device)\n",
        "                    labels = labels.to(self.device)\n",
        "                    ## reset gradient\n",
        "                    self.optimizer.zero_grad()\n",
        "                    ## switch computing gradient\n",
        "                    with torch.set_grad_enabled(phase == \"train\"):\n",
        "                        ## forward\n",
        "                        outputs = self.net(inputs)\n",
        "                        loss = self.criterion(outputs, labels)\n",
        "                        ## backward\n",
        "                        if phase == \"train\":\n",
        "                            loss.backward()\n",
        "                            self.optimizer.step()\n",
        "                    ## add loss\n",
        "                    loss_epoch += loss.item() * inputs.size(0)\n",
        "                ## average loss\n",
        "                loss_epoch = loss_epoch / len(self.dataloaders_dict[phase].dataset)\n",
        "                record_loss_dict[phase].append(loss_epoch)\n",
        "                if epoch == 0 or not (epoch+1) % (num_epochs // 10):\n",
        "                    print(\"{} Loss: {:.4f}\".format(phase, loss_epoch))\n",
        "        ## save\n",
        "        torch.save(self.net.state_dict(), save_weights_path)\n",
        "        ## time\n",
        "        mins = (time.time() - start_clock) // 60\n",
        "        secs = (time.time() - start_clock) % 60\n",
        "        print (\"training time: \", mins, \" [min] \", secs, \" [sec]\")\n",
        "        ## graph\n",
        "        self.showGraph(record_loss_dict)\n",
        "\n",
        "    def showGraph(self, record_loss_dict):\n",
        "        graph = plt.figure()\n",
        "        plt.plot(range(len(record_loss_dict[\"train\"])), record_loss_dict[\"train\"], label=\"Training\")\n",
        "        plt.plot(range(len(record_loss_dict[\"val\"])), record_loss_dict[\"val\"], label=\"Validation\")\n",
        "        plt.legend()\n",
        "        plt.xlabel(\"Epoch\")\n",
        "        plt.ylabel(\"Loss\")\n",
        "        plt.title(\"loss: train=\" + str(record_loss_dict[\"train\"][-1]) + \", val=\" + str(record_loss_dict[\"val\"][-1]))\n",
        "        plt.show()\n",
        "\n",
        "\n",
        "csv_path = \"/content/train.csv\"\n",
        "num_epochs = 200\n",
        "batch_size = 80\n",
        "lr = 0.001\n",
        "save_weights_path = \"/content/weights.pth\"\n",
        "\n",
        "trainer = Trainer(csv_path, num_epochs, batch_size, lr, save_weights_path)\n",
        "trainer.train()"
      ],
      "metadata": {
        "colab": {
          "base_uri": "https://localhost:8080/",
          "height": 1000
        },
        "id": "kTove048kh_l",
        "outputId": "14c97a7f-1aeb-4ccb-abf8-1d41786dd570"
      },
      "execution_count": 50,
      "outputs": [
        {
          "output_type": "stream",
          "name": "stdout",
          "text": [
            "self.device =  cuda:0\n",
            "Network(\n",
            "  (fc): Sequential(\n",
            "    (0): Linear(in_features=10, out_features=64, bias=True)\n",
            "    (1): ReLU()\n",
            "    (2): Dropout(p=0.1, inplace=False)\n",
            "    (3): Linear(in_features=64, out_features=64, bias=True)\n",
            "    (4): ReLU()\n",
            "    (5): Dropout(p=0.1, inplace=False)\n",
            "    (6): Linear(in_features=64, out_features=64, bias=True)\n",
            "    (7): ReLU()\n",
            "    (8): Dropout(p=0.1, inplace=False)\n",
            "    (9): Linear(in_features=64, out_features=2, bias=True)\n",
            "  )\n",
            ")\n",
            "----------\n",
            "Epoch 1/200\n",
            "train Loss: 0.7915\n",
            "val Loss: 0.6228\n",
            "----------\n",
            "Epoch 20/200\n",
            "train Loss: 0.5655\n",
            "val Loss: 0.5289\n",
            "----------\n",
            "Epoch 40/200\n",
            "train Loss: 0.4937\n",
            "val Loss: 0.4447\n",
            "----------\n",
            "Epoch 60/200\n",
            "train Loss: 0.4709\n",
            "val Loss: 0.4372\n",
            "----------\n",
            "Epoch 80/200\n",
            "train Loss: 0.4664\n",
            "val Loss: 0.4347\n",
            "----------\n",
            "Epoch 100/200\n",
            "train Loss: 0.4345\n",
            "val Loss: 0.4019\n",
            "----------\n",
            "Epoch 120/200\n",
            "train Loss: 0.4324\n",
            "val Loss: 0.3929\n",
            "----------\n",
            "Epoch 140/200\n",
            "train Loss: 0.4005\n",
            "val Loss: 0.3773\n",
            "----------\n",
            "Epoch 160/200\n",
            "train Loss: 0.3930\n",
            "val Loss: 0.3796\n",
            "----------\n",
            "Epoch 180/200\n",
            "train Loss: 0.3810\n",
            "val Loss: 0.3798\n",
            "----------\n",
            "Epoch 200/200\n",
            "train Loss: 0.3819\n",
            "val Loss: 0.3908\n",
            "training time:  4.0  [min]  48.64372658729553  [sec]\n"
          ]
        },
        {
          "output_type": "display_data",
          "data": {
            "image/png": "[encoded data removed]",
            "text/plain": [
              "<Figure size 432x288 with 1 Axes>"
            ]
          },
          "metadata": {
            "needs_background": "light"
          }
        }
      ]
    },
    {
      "cell_type": "markdown",
      "source": [
        "# Evaluation"
      ],
      "metadata": {
        "id": "06vF2z1Y4v5X"
      }
    },
    {
      "cell_type": "code",
      "source": [
        "import time\n",
        "import pandas as pd\n",
        "\n",
        "import torch\n",
        "\n",
        "class Evaluator:\n",
        "    def __init__(self, csv_path, weights_path, save_csv_path):\n",
        "        self.device = torch.device(\"cuda:0\" if torch.cuda.is_available() else \"cpu\")\n",
        "        print(\"self.device = \", self.device)\n",
        "\n",
        "        self.csv_path = csv_path\n",
        "        self.save_csv_path = save_csv_path\n",
        "        self.datalist = makeDataList(csv_path)\n",
        "\n",
        "        self.net = Network(self.datalist.shape[1], 64, 2, dropout_rate=0.1)\n",
        "        self.net.to(self.device)\n",
        "        if torch.cuda.is_available():\n",
        "            loaded_weights = torch.load(weights_path)\n",
        "            print(\"Weights have been loaded [GPU -> GPU]:\", weights_path)\n",
        "        else:\n",
        "            loaded_weights = torch.load(weights_path, map_location={\"cuda:0\": \"cpu\"})\n",
        "            print(\"Weights have been loaded [GPU -> CPU]:\", weights_path)\n",
        "        self.net.load_state_dict(loaded_weights)\n",
        "        print(self.net)\n",
        "\n",
        "    def evaluate(self):\n",
        "        ## time\n",
        "        start_clock = time.time()\n",
        "        ## setting\n",
        "        self.net.eval()\n",
        "        ## ndarray -> tensor\n",
        "        inputs = torch.from_numpy(self.datalist.values.astype(np.float32))\n",
        "        inputs = inputs.to(self.device)\n",
        "        ## forward\n",
        "        with torch.no_grad():\n",
        "            outputs = self.net(inputs)\n",
        "            outputs = torch.max(outputs, dim=1).indices\n",
        "        ## save\n",
        "        self.writeCSV(outputs)\n",
        "        ## time\n",
        "        mins = (time.time() - start_clock) // 60\n",
        "        secs = (time.time() - start_clock) % 60\n",
        "        print (\"evaluation time: \", mins, \" [min] \", secs, \" [sec]\")\n",
        "\n",
        "    def writeCSV(self, outputs):\n",
        "        test_df = pd.read_csv(self.csv_path)\n",
        "        result_df = pd.DataFrame({\"PassengerId\": test_df[\"PassengerId\"].values, \"Survived\": outputs.cpu().detach().numpy()})\n",
        "        result_df.to_csv(self.save_csv_path, index=False)\n",
        "        print(result_df)\n",
        "\n",
        "\n",
        "csv_path = \"/content/test.csv\"\n",
        "weights_path = \"/content/weights.pth\"\n",
        "save_csv_path = \"/content/submission.csv\"\n",
        "\n",
        "evaluator = Evaluator(csv_path, weights_path, save_csv_path)\n",
        "evaluator.evaluate()"
      ],
      "metadata": {
        "id": "iVoPgqpCva4O",
        "colab": {
          "base_uri": "https://localhost:8080/"
        },
        "outputId": "27b4bc5c-3a99-4acd-e23b-ed28fdaaa0da"
      },
      "execution_count": 51,
      "outputs": [
        {
          "output_type": "stream",
          "name": "stdout",
          "text": [
            "self.device =  cuda:0\n",
            "Weights have been loaded [GPU -> GPU]: /content/weights.pth\n",
            "Network(\n",
            "  (fc): Sequential(\n",
            "    (0): Linear(in_features=10, out_features=64, bias=True)\n",
            "    (1): ReLU()\n",
            "    (2): Dropout(p=0.1, inplace=False)\n",
            "    (3): Linear(in_features=64, out_features=64, bias=True)\n",
            "    (4): ReLU()\n",
            "    (5): Dropout(p=0.1, inplace=False)\n",
            "    (6): Linear(in_features=64, out_features=64, bias=True)\n",
            "    (7): ReLU()\n",
            "    (8): Dropout(p=0.1, inplace=False)\n",
            "    (9): Linear(in_features=64, out_features=2, bias=True)\n",
            "  )\n",
            ")\n",
            "     PassengerId  Survived\n",
            "0            892         0\n",
            "1            893         0\n",
            "2            894         0\n",
            "3            895         0\n",
            "4            896         0\n",
            "..           ...       ...\n",
            "413         1305         0\n",
            "414         1306         1\n",
            "415         1307         0\n",
            "416         1308         0\n",
            "417         1309         1\n",
            "\n",
            "[418 rows x 2 columns]\n",
            "evaluation time:  0.0  [min]  0.019574642181396484  [sec]\n"
          ]
        }
      ]
    },
    {
      "cell_type": "markdown",
      "source": [
        "# Submission"
      ],
      "metadata": {
        "id": "jHkUaHmsd0Dg"
      }
    },
    {
      "cell_type": "code",
      "source": [
        "import sys\n",
        "\n",
        "print(\"Submit the file? (y/n)\")\n",
        "ans = input()\n",
        "while ans != \"y\" and ans != \"n\":\n",
        "    print(\"Type 'y' or 'n'\")\n",
        "    ans = input()\n",
        "if ans == \"y\":\n",
        "    !kaggle competitions submit -c titanic -f $save_csv_path -m \"titanic_regression.ipynb\""
      ],
      "metadata": {
        "colab": {
          "base_uri": "https://localhost:8080/"
        },
        "id": "auZnpDhXQbzA",
        "outputId": "8cb1051c-7e97-42b6-8929-b0eed457fdc0"
      },
      "execution_count": 53,
      "outputs": [
        {
          "output_type": "stream",
          "name": "stdout",
          "text": [
            "Submit the file? (y/n)\n",
            "y\n",
            "Warning: Looks like you're using an outdated API Version, please consider updating (server 1.5.12 / client 1.5.4)\n",
            "100% 2.77k/2.77k [00:01<00:00, 2.07kB/s]\n",
            "Successfully submitted to Titanic - Machine Learning from Disaster"
          ]
        }
      ]
    },
    {
      "cell_type": "code",
      "source": [
        ""
      ],
      "metadata": {
        "id": "a7zWym0lGrcb"
      },
      "execution_count": null,
      "outputs": []
    }
  ]
}