{
  "nbformat": 4,
  "nbformat_minor": 0,
  "metadata": {
    "colab": {
      "name": "titanic_svm.ipynb",
      "provenance": [],
      "authorship_tag": "ABX9TyP8MW80USfNCf9iTPLOKB7A",
      "include_colab_link": true
    },
    "kernelspec": {
      "name": "python3",
      "display_name": "Python 3"
    },
    "language_info": {
      "name": "python"
    },
    "accelerator": "GPU"
  },
  "cells": [
    {
      "cell_type": "markdown",
      "metadata": {
        "id": "view-in-github",
        "colab_type": "text"
      },
      "source": [
        "<a href=\"https://colab.research.google.com/github/ozakiryota/kaggle/blob/main/titanic/titanic_svm.ipynb\" target=\"_parent\"><img src=\"https://colab.research.google.com/assets/colab-badge.svg\" alt=\"Open In Colab\"/></a>"
      ]
    },
    {
      "cell_type": "markdown",
      "source": [
        "# Downlad and check datasets"
      ],
      "metadata": {
        "id": "vES8SYVUHzwn"
      }
    },
    {
      "cell_type": "markdown",
      "source": [
        "Activate Kaggle API"
      ],
      "metadata": {
        "id": "9n4MhU4eCTZl"
      }
    },
    {
      "cell_type": "code",
      "source": [
        "from google.colab import files\n",
        "import os\n",
        "\n",
        "jason_path = '/root/.kaggle/kaggle.json'\n",
        "\n",
        "if not os.path.exists(jason_path):\n",
        "    uploaded = files.upload()\n",
        "\n",
        "    for fn in uploaded.keys():\n",
        "        print('User uploaded file \"{name}\" with length {length} bytes'.format(\n",
        "            name=fn, length=len(uploaded[fn])))\n",
        "\n",
        "    # Then move kaggle.json into the folder where the API expects to find it.\n",
        "    !mkdir -p /root/.kaggle/ && mv kaggle.json /root/.kaggle/ && chmod 600 /root/.kaggle/kaggle.json\n",
        "\n",
        "else:\n",
        "    print(jason_path, \"is already exists.\")"
      ],
      "metadata": {
        "colab": {
          "base_uri": "https://localhost:8080/"
        },
        "id": "MtAsLdCvCNbX",
        "outputId": "406bf53c-2f8b-483e-ea7c-6c83f5d52d66"
      },
      "execution_count": null,
      "outputs": [
        {
          "output_type": "stream",
          "name": "stdout",
          "text": [
            "/root/.kaggle/kaggle.json is already exists.\n"
          ]
        }
      ]
    },
    {
      "cell_type": "markdown",
      "source": [
        "Download the datasets"
      ],
      "metadata": {
        "id": "0aSLJ2GuBvoT"
      }
    },
    {
      "cell_type": "code",
      "source": [
        "!pip install kaggle\n",
        "!kaggle competitions download -c titanic"
      ],
      "metadata": {
        "colab": {
          "base_uri": "https://localhost:8080/"
        },
        "id": "J9DArlDbBzGo",
        "outputId": "bd127ac5-2158-452e-9db2-d1e8d3f3b297"
      },
      "execution_count": null,
      "outputs": [
        {
          "output_type": "stream",
          "name": "stdout",
          "text": [
            "Requirement already satisfied: kaggle in /usr/local/lib/python3.7/dist-packages (1.5.12)\n",
            "Requirement already satisfied: requests in /usr/local/lib/python3.7/dist-packages (from kaggle) (2.23.0)\n",
            "Requirement already satisfied: six>=1.10 in /usr/local/lib/python3.7/dist-packages (from kaggle) (1.15.0)\n",
            "Requirement already satisfied: certifi in /usr/local/lib/python3.7/dist-packages (from kaggle) (2021.10.8)\n",
            "Requirement already satisfied: tqdm in /usr/local/lib/python3.7/dist-packages (from kaggle) (4.62.3)\n",
            "Requirement already satisfied: python-slugify in /usr/local/lib/python3.7/dist-packages (from kaggle) (5.0.2)\n",
            "Requirement already satisfied: python-dateutil in /usr/local/lib/python3.7/dist-packages (from kaggle) (2.8.2)\n",
            "Requirement already satisfied: urllib3 in /usr/local/lib/python3.7/dist-packages (from kaggle) (1.24.3)\n",
            "Requirement already satisfied: text-unidecode>=1.3 in /usr/local/lib/python3.7/dist-packages (from python-slugify->kaggle) (1.3)\n",
            "Requirement already satisfied: chardet<4,>=3.0.2 in /usr/local/lib/python3.7/dist-packages (from requests->kaggle) (3.0.4)\n",
            "Requirement already satisfied: idna<3,>=2.5 in /usr/local/lib/python3.7/dist-packages (from requests->kaggle) (2.10)\n",
            "Warning: Looks like you're using an outdated API Version, please consider updating (server 1.5.12 / client 1.5.4)\n",
            "train.csv: Skipping, found more recently modified local copy (use --force to force download)\n",
            "test.csv: Skipping, found more recently modified local copy (use --force to force download)\n",
            "gender_submission.csv: Skipping, found more recently modified local copy (use --force to force download)\n"
          ]
        }
      ]
    },
    {
      "cell_type": "markdown",
      "source": [
        "# Fitting and prediction"
      ],
      "metadata": {
        "id": "MMQnI91-H6jt"
      }
    },
    {
      "cell_type": "code",
      "source": [
        "import pandas as pd\n",
        "\n",
        "from sklearn import svm\n",
        "\n",
        "def extractData(csv_path):\n",
        "    data = pd.read_csv(csv_path)\n",
        "    data = data.drop(['PassengerId', 'Name', 'Ticket', 'Cabin'], axis=1)\n",
        "    data = pd.get_dummies(data)\n",
        "    data = data.fillna(-1)\n",
        "\n",
        "    return data\n",
        "\n",
        "train_csv_path = '/content/train.csv'\n",
        "eval_csv_path = '/content/test.csv'\n",
        "save_csv_path = '/content/submission.csv'\n",
        "\n",
        "train_data = extractData(train_csv_path)\n",
        "train_inputs = train_data.drop(labels=[\"Survived\"], axis=1)\n",
        "train_labels = train_data[\"Survived\"]\n",
        "\n",
        "model = svm.SVC()\n",
        "model.fit(train_inputs, train_labels)\n",
        "\n",
        "eval_inputs = extractData(eval_csv_path)\n",
        "predictions = model.predict(eval_inputs)\n",
        "\n",
        "eval_indices_df = pd.read_csv(eval_csv_path)['PassengerId']\n",
        "predictions_df = pd.Series(predictions, name='Survived')\n",
        "result_df = pd.concat([eval_indices_df, predictions_df], axis=1)\n",
        "result_df.to_csv(save_csv_path, index=False)"
      ],
      "metadata": {
        "id": "B8p4_BVwF9g_"
      },
      "execution_count": null,
      "outputs": []
    },
    {
      "cell_type": "markdown",
      "source": [
        "# Submission"
      ],
      "metadata": {
        "id": "6ARJzxCXdnOQ"
      }
    },
    {
      "cell_type": "code",
      "source": [
        "import sys\n",
        "\n",
        "print(\"Submit the file? (y/n)\")\n",
        "ans = input()\n",
        "while ans != 'y' and ans != 'n':\n",
        "    print(\"Type 'y' or 'n'\")\n",
        "    ans = input()\n",
        "if ans == 'y':\n",
        "    !kaggle competitions submit -c titanic -f $save_csv_path -m \"titanic_svm.ipynb\""
      ],
      "metadata": {
        "colab": {
          "base_uri": "https://localhost:8080/"
        },
        "id": "lj5_-_CBdMoI",
        "outputId": "fcfcc9e5-1c5f-4e46-8cb9-96a6ac1a54cd"
      },
      "execution_count": null,
      "outputs": [
        {
          "output_type": "stream",
          "name": "stdout",
          "text": [
            "Submit the file? (y/n)\n",
            "y\n",
            "Warning: Looks like you're using an outdated API Version, please consider updating (server 1.5.12 / client 1.5.4)\n",
            "100% 2.77k/2.77k [00:03<00:00, 752B/s]\n",
            "Successfully submitted to Titanic - Machine Learning from Disaster"
          ]
        }
      ]
    }
  ]
}