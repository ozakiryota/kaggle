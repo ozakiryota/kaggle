{
  "cells": [
    {
      "cell_type": "markdown",
      "metadata": {
        "id": "view-in-github",
        "colab_type": "text"
      },
      "source": [
        "<a href=\"https://colab.research.google.com/github/ozakiryota/kaggle/blob/main/store_sales/store_sales_rnn_seq2seq.ipynb\" target=\"_parent\"><img src=\"https://colab.research.google.com/assets/colab-badge.svg\" alt=\"Open In Colab\"/></a>"
      ]
    },
    {
      "cell_type": "markdown",
      "metadata": {
        "id": "vES8SYVUHzwn"
      },
      "source": [
        "# Downlad and check datasets"
      ]
    },
    {
      "cell_type": "markdown",
      "metadata": {
        "id": "9n4MhU4eCTZl"
      },
      "source": [
        "Activate Kaggle API"
      ]
    },
    {
      "cell_type": "code",
      "execution_count": null,
      "metadata": {
        "colab": {
          "base_uri": "https://localhost:8080/",
          "resources": {
            "http://localhost:8080/nbextensions/google.colab/files.js": {
              "data": "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",
              "ok": true,
              "headers": [
                [
                  "content-type",
                  "application/javascript"
                ]
              ],
              "status": 200,
              "status_text": ""
            }
          },
          "height": 43
        },
        "id": "MtAsLdCvCNbX",
        "outputId": "d3c96c76-2544-4c6d-bc0a-e847763325b7"
      },
      "outputs": [
        {
          "output_type": "display_data",
          "data": {
            "text/html": [
              "\n",
              "     <input type=\"file\" id=\"files-a3fb21e5-5606-4a95-b8c5-49c6cc7d276a\" name=\"files[]\" multiple disabled\n",
              "        style=\"border:none\" />\n",
              "     <output id=\"result-a3fb21e5-5606-4a95-b8c5-49c6cc7d276a\">\n",
              "      Upload widget is only available when the cell has been executed in the\n",
              "      current browser session. Please rerun this cell to enable.\n",
              "      </output>\n",
              "      <script src=\"/nbextensions/google.colab/files.js\"></script> "
            ],
            "text/plain": [
              "<IPython.core.display.HTML object>"
            ]
          },
          "metadata": {}
        }
      ],
      "source": [
        "from google.colab import files\n",
        "import os\n",
        "\n",
        "jason_path = \"/root/.kaggle/kaggle.json\"\n",
        "\n",
        "if not os.path.exists(jason_path):\n",
        "    uploaded = files.upload()\n",
        "\n",
        "    for fn in uploaded.keys():\n",
        "        print(\"User uploaded file '{name}' with length {length} bytes\".format(\n",
        "            name=fn, length=len(uploaded[fn])))\n",
        "\n",
        "    # Then move kaggle.json into the folder where the API expects to find it.\n",
        "    !mkdir -p /root/.kaggle/ && mv kaggle.json /root/.kaggle/ && chmod 600 /root/.kaggle/kaggle.json\n",
        "\n",
        "else:\n",
        "    print(jason_path, \"is already exists.\")"
      ]
    },
    {
      "cell_type": "markdown",
      "metadata": {
        "id": "0aSLJ2GuBvoT"
      },
      "source": [
        "Download the datasets"
      ]
    },
    {
      "cell_type": "code",
      "execution_count": null,
      "metadata": {
        "id": "J9DArlDbBzGo"
      },
      "outputs": [],
      "source": [
        "!pip install kaggle\n",
        "!kaggle competitions download -c store-sales-time-series-forecasting\n",
        "!unzip -n train.csv.zip\n",
        "!unzip -n transactions.csv.zip"
      ]
    },
    {
      "cell_type": "markdown",
      "metadata": {
        "id": "EXSUy5YOBn-g"
      },
      "source": [
        "Check the datasets"
      ]
    },
    {
      "cell_type": "code",
      "execution_count": null,
      "metadata": {
        "id": "f5aWDaOv4w0U"
      },
      "outputs": [],
      "source": [
        "import pandas as pd\n",
        "\n",
        "df = pd.read_csv(\"/content/train.csv\")\n",
        "# df = pd.read_csv(\"/content/test.csv\")\n",
        "print(df.info())\n",
        "df"
      ]
    },
    {
      "cell_type": "markdown",
      "metadata": {
        "id": "MMQnI91-H6jt"
      },
      "source": [
        "# Fuctions and class"
      ]
    },
    {
      "cell_type": "code",
      "execution_count": null,
      "metadata": {
        "id": "dChbM1OBC4n2"
      },
      "outputs": [],
      "source": [
        "import pandas as pd\n",
        "\n",
        "def makeDataList(main_csv_path_list, oil_csv_path, holiday_csv_path):\n",
        "    datalist = pd.DataFrame()\n",
        "    for path in main_csv_path_list:\n",
        "        datalist = pd.concat([datalist, pd.read_csv(path)], ignore_index=True)\n",
        "    \n",
        "    datalist = datalist.drop(\"id\", axis=1).set_index([\"date\", \"store_nbr\", \"family\"]).sort_index().unstack([\"store_nbr\", \"family\"])\n",
        "\n",
        "    datalist = pd.merge(datalist, pd.read_csv(oil_csv_path), on=\"date\", how=\"left\")\n",
        "    datalist[\"dcoilwtico\"] = datalist[\"dcoilwtico\"].fillna(datalist[\"dcoilwtico\"].mean())\n",
        "    datalist = pd.merge(datalist, pd.read_csv(holiday_csv_path), on=\"date\", how=\"left\").drop([\"locale_name\", \"description\"], axis=1)\n",
        "    datalist[\"type\"] = datalist[\"type\"].fillna(\"NA\")\n",
        "    datalist[\"locale\"] = datalist[\"locale\"].fillna(\"NA\")\n",
        "    datalist[\"transferred\"] = datalist[\"transferred\"].fillna(\"NA\")\n",
        "\n",
        "    # datalist[\"date\"] = pd.to_datetime(datalist[\"date\"])\n",
        "    datalist = datalist.drop(\"date\", axis=1)\n",
        "    datalist = pd.get_dummies(datalist)\n",
        "\n",
        "    return datalist"
      ]
    },
    {
      "cell_type": "code",
      "execution_count": null,
      "metadata": {
        "id": "2hDMnv2lI462"
      },
      "outputs": [],
      "source": [
        "## TEST\n",
        "datalist = makeDataList([\"/content/train.csv\"], \"/content/oil.csv\", \"/content/holidays_events.csv\")\n",
        "print(\"datalist.columns =\\n\", datalist.columns)\n",
        "print(\"datalist.values[0] =\", datalist.values[0])\n",
        "datalist"
      ]
    },
    {
      "cell_type": "code",
      "execution_count": null,
      "metadata": {
        "id": "Yjdk6JUgmXCU"
      },
      "outputs": [],
      "source": [
        "def getSaleColumns(datalist):\n",
        "    sale_columns = []\n",
        "    for col in datalist.columns:\n",
        "        if col[0] == \"sales\":\n",
        "            sale_columns.append(col)\n",
        "    return sale_columns"
      ]
    },
    {
      "cell_type": "code",
      "execution_count": null,
      "metadata": {
        "id": "SUb6Hg9rmwEv"
      },
      "outputs": [],
      "source": [
        "## TEST\n",
        "print(getSaleColumns(datalist))"
      ]
    },
    {
      "cell_type": "code",
      "execution_count": null,
      "metadata": {
        "id": "Zp00Wnz7LxKz"
      },
      "outputs": [],
      "source": [
        "## TEST\n",
        "from sklearn.model_selection import train_test_split\n",
        "\n",
        "train_datalist, val_datalist = train_test_split(datalist, test_size=0.1, random_state=1234, shuffle=True)\n",
        "print(train_datalist)\n",
        "print(val_datalist)"
      ]
    },
    {
      "cell_type": "code",
      "execution_count": null,
      "metadata": {
        "id": "fIuzpP6_O3vu"
      },
      "outputs": [],
      "source": [
        "import numpy as np\n",
        "\n",
        "import torch.utils.data as data\n",
        "\n",
        "class DatasetMaker(data.Dataset):\n",
        "    def __init__(self, datalist, past_size, future_size):\n",
        "        self.datalist = datalist.values.astype(np.float32)\n",
        "        self.past_size = past_size\n",
        "        self.future_size = future_size\n",
        "\n",
        "        sale_columns = getSaleColumns(datalist)\n",
        "        self.info_datalist = datalist.drop(sale_columns, axis=1).values.astype(np.float32)\n",
        "        self.sale_datalist = datalist[sale_columns].values.astype(np.float32)\n",
        "\n",
        "    def __len__(self):\n",
        "        return len(self.datalist) - (self.past_size + self.future_size) + 1\n",
        "\n",
        "    def __getitem__(self, index):\n",
        "        past_end = index + self.past_size   # future_start\n",
        "        future_end = past_end + self.future_size\n",
        "        inputs_past = self.datalist[index:past_end]\n",
        "        inputs_info = self.info_datalist[past_end:future_end]\n",
        "        labels = self.sale_datalist[past_end - 1:future_end]\n",
        "        return inputs_past, inputs_info, labels"
      ]
    },
    {
      "cell_type": "code",
      "execution_count": null,
      "metadata": {
        "id": "jggJqya8bPtw"
      },
      "outputs": [],
      "source": [
        "## TEST\n",
        "dataset = DatasetMaker(datalist, 16, 16)\n",
        "inputs_past0 = dataset.__getitem__(index=0)[0]\n",
        "inputs_info0 = dataset.__getitem__(index=0)[1]\n",
        "labels0 = dataset.__getitem__(index=0)[2]\n",
        "print(\"dataset.__len__() =\", dataset.__len__())\n",
        "print(\"inputs_past0 =\\n\", inputs_past0)\n",
        "print(\"inputs_past0.shape =\", inputs_past0.shape)\n",
        "print(\"inputs_info0 =\\n\", inputs_info0)\n",
        "print(\"inputs_info0.shape =\", inputs_info0.shape)\n",
        "print(\"labels0 =\\n\", labels0)\n",
        "print(\"labels0.shape =\", labels0.shape)"
      ]
    },
    {
      "cell_type": "code",
      "execution_count": null,
      "metadata": {
        "id": "40EferJkiFey"
      },
      "outputs": [],
      "source": [
        "## TEST\n",
        "import torch\n",
        "\n",
        "batch_size = 10\n",
        "dataloader = torch.utils.data.DataLoader(dataset, batch_size=batch_size, shuffle=True, drop_last=True)\n",
        "batch_itr = iter(dataloader)\n",
        "inputs_past, inputs_info, labels = next(batch_itr)\n",
        "\n",
        "print(\"inputs_past.size() =\", inputs_past.size())\n",
        "print(\"inputs_info.size() =\", inputs_info.size())\n",
        "# print(\"labels =\\n\", labels)\n",
        "print(\"labels.size() =\", labels.size())"
      ]
    },
    {
      "cell_type": "code",
      "execution_count": null,
      "metadata": {
        "id": "Lyen2FGkgGmB"
      },
      "outputs": [],
      "source": [
        "from torch import nn\n",
        "\n",
        "class Encoder(nn.Module):\n",
        "    def __init__(self, input_dim, hidden_dim, num_layers):\n",
        "        super().__init__()\n",
        "\n",
        "        self.input_dim = input_dim\n",
        "        self.rnn = nn.RNN(input_dim, hidden_dim, num_layers, batch_first=True)\n",
        "\n",
        "    def forward(self, x):\n",
        "        x, final_h = self.rnn(x, None)\n",
        "        return final_h\n",
        "\n",
        "class Decoder(nn.Module):\n",
        "    def __init__(self, input_dim, hidden_dim, num_layers, output_dim):\n",
        "        super().__init__()\n",
        "\n",
        "        self.input_dim = input_dim\n",
        "        self.rnn = nn.RNN(input_dim, hidden_dim, num_layers, batch_first=True)\n",
        "        self.fc = self.cnn = nn.Sequential(\n",
        "            nn.Linear(hidden_dim, 2*hidden_dim),\n",
        "            nn.Linear(2*hidden_dim, hidden_dim),\n",
        "            nn.Linear(hidden_dim, output_dim)\n",
        "        )\n",
        "\n",
        "    def forward(self, x, h):\n",
        "        x, final_h = self.rnn(x, h)\n",
        "        x = self.fc(final_h[-1])\n",
        "        return x, final_h"
      ]
    },
    {
      "cell_type": "code",
      "execution_count": null,
      "metadata": {
        "id": "eqdqB5Ppjmn5"
      },
      "outputs": [],
      "source": [
        "## TEST\n",
        "enc = Encoder(\n",
        "    input_dim = dataset.__getitem__(index=0)[0].shape[1],\n",
        "    hidden_dim = 128,\n",
        "    num_layers = 2\n",
        ")\n",
        "dec = Decoder(\n",
        "    input_dim = dataset.__getitem__(index=0)[1].shape[1] + dataset.__getitem__(index=0)[2].shape[1],\n",
        "    hidden_dim = 128,\n",
        "    output_dim = dataset.__getitem__(index=0)[2].shape[1],\n",
        "    num_layers = 2\n",
        ")\n",
        "print(enc)\n",
        "print(dec)\n",
        "h = enc(inputs_past)\n",
        "dec_inputs = torch.cat((inputs_info[:, 0, :], labels[:, 0, :]), dim=1).unsqueeze(1)\n",
        "outputs, h = dec(dec_inputs, h)\n",
        "print(\"outputs =\\n\", outputs)\n",
        "print(\"outputs.size() =\", outputs.size())\n",
        "print(\"h =\\n\", h)\n",
        "print(\"h.size() =\", h.size())"
      ]
    },
    {
      "cell_type": "markdown",
      "metadata": {
        "id": "UWV_Z_wvAQAy"
      },
      "source": [
        "# Training"
      ]
    },
    {
      "cell_type": "code",
      "execution_count": null,
      "metadata": {
        "id": "kTove048kh_l"
      },
      "outputs": [],
      "source": [
        "import time\n",
        "import matplotlib.pyplot as plt\n",
        "\n",
        "from sklearn.model_selection import train_test_split\n",
        "\n",
        "import torch\n",
        "from torch import nn\n",
        "import torch.optim as optim\n",
        "\n",
        "class Trainer:\n",
        "    def __init__(self, num_epochs, train_csv_path, oil_csv_path, holiday_csv_path, batch_size, lr, save_weights_path_list):\n",
        "        self.device = torch.device(\"cuda:0\" if torch.cuda.is_available() else \"cpu\")\n",
        "        print(\"self.device = \", self.device)\n",
        "\n",
        "        self.num_epochs = num_epochs\n",
        "        self.save_weights_path_list = save_weights_path_list\n",
        "        past_size = 16\n",
        "        future_size = 16\n",
        "\n",
        "        datalist = makeDataList([train_csv_path], oil_csv_path, holiday_csv_path)\n",
        "        train_datalist, val_datalist = train_test_split(datalist, test_size=0.1, random_state=1234, shuffle=True)\n",
        "        train_dataset = DatasetMaker(train_datalist, past_size, future_size)\n",
        "        val_dataset = DatasetMaker(val_datalist, past_size, future_size)\n",
        "        train_dataloader = torch.utils.data.DataLoader(train_dataset, batch_size=batch_size, shuffle=True, drop_last=True)\n",
        "        val_dataloader = torch.utils.data.DataLoader(val_dataset, batch_size=batch_size, shuffle=False, drop_last=False)\n",
        "        self.dataloaders_dict = {\"train\": train_dataloader, \"val\": val_dataloader}\n",
        "\n",
        "        hidden_dim = 256\n",
        "        num_layers = 3\n",
        "        self.enc = Encoder(\n",
        "            input_dim = dataset.__getitem__(index=0)[0].shape[1],\n",
        "            hidden_dim = hidden_dim,\n",
        "            num_layers = num_layers\n",
        "        )\n",
        "        self.dec = Decoder(\n",
        "            input_dim = dataset.__getitem__(index=0)[1].shape[1] + dataset.__getitem__(index=0)[2].shape[1],\n",
        "            hidden_dim = hidden_dim,\n",
        "            output_dim = dataset.__getitem__(index=0)[2].shape[1],\n",
        "            num_layers = num_layers\n",
        "        )\n",
        "        self.enc.to(self.device)\n",
        "        self.dec.to(self.device)\n",
        "        print(self.enc)\n",
        "        print(self.dec)\n",
        "        self.criterion = nn.MSELoss()\n",
        "        self.optimizer = optim.Adam([\n",
        "            {\"params\": self.enc.parameters()},\n",
        "            {\"params\": self.dec.parameters()}\n",
        "            ], lr=lr\n",
        "        )\n",
        "\n",
        "    def train(self):\n",
        "        ## time\n",
        "        start_clock = time.time()\n",
        "        ## record\n",
        "        record_loss_dict = {\"train\": [], \"val\": []}\n",
        "        min_loss_epoch = 0.0\n",
        "        ## loop\n",
        "        for epoch in range(self.num_epochs):\n",
        "            if epoch == 0 or not (epoch+1) % (num_epochs // 10):\n",
        "                print(\"----------\")\n",
        "                print(\"Epoch {}/{}\".format(epoch+1, self.num_epochs))\n",
        "            ## phase\n",
        "            for phase in [\"train\", \"val\"]:\n",
        "                ## setting\n",
        "                if phase == \"train\":\n",
        "                    self.enc.train()\n",
        "                    self.dec.train()\n",
        "                else:\n",
        "                    self.enc.eval()\n",
        "                    self.dec.eval()\n",
        "                ## buffer\n",
        "                loss_epoch = 0.0\n",
        "                num_inputs_epoch = 0\n",
        "                for inputs_past, inputs_info, labels in self.dataloaders_dict[phase]:\n",
        "                    inputs_past = inputs_past.to(self.device)\n",
        "                    inputs_info = inputs_info.to(self.device)\n",
        "                    labels = labels.to(self.device)\n",
        "                    ## reset gradient\n",
        "                    self.optimizer.zero_grad()\n",
        "                    ## buffer\n",
        "                    loss = 0.0\n",
        "                    ## switch computing gradient\n",
        "                    with torch.set_grad_enabled(phase == \"train\"):\n",
        "                        ## forward\n",
        "                        h = self.enc(inputs_past)\n",
        "                        for i in range(labels.shape[1] - 1):\n",
        "                            dec_inputs = torch.cat((inputs_info[:, i, :], labels[:, i, :]), dim=1).unsqueeze(1)\n",
        "                            outputs, h = self.dec(dec_inputs, h)\n",
        "                            loss += self.criterion(outputs, labels[:, i+1, :])\n",
        "                        ## backward\n",
        "                        if phase == \"train\":\n",
        "                            loss.backward()\n",
        "                            self.optimizer.step()\n",
        "                    ## add\n",
        "                    loss_epoch += loss.item() * labels.size(0)\n",
        "                    num_inputs_epoch += labels.size(0)\n",
        "                ## average loss\n",
        "                loss_epoch = loss_epoch / num_inputs_epoch\n",
        "                record_loss_dict[phase].append(loss_epoch)\n",
        "                if epoch == 0 or not (epoch+1) % (num_epochs // 10):\n",
        "                    print(\"{} Loss: {:.4f}\".format(phase, loss_epoch))\n",
        "            ## save\n",
        "            if epoch == 0 or record_loss_dict[\"val\"][-1] < min_loss_epoch:\n",
        "                min_loss_epoch = record_loss_dict[\"val\"][-1]\n",
        "                torch.save(self.enc.state_dict(), self.save_weights_path_list[0])\n",
        "                torch.save(self.dec.state_dict(), self.save_weights_path_list[1])\n",
        "        ## time\n",
        "        mins = (time.time() - start_clock) // 60\n",
        "        secs = (time.time() - start_clock) % 60\n",
        "        print (\"training time: \", mins, \" [min] \", secs, \" [sec]\")\n",
        "        ## graph\n",
        "        self.showGraph(record_loss_dict)\n",
        "\n",
        "    def showGraph(self, record_loss_dict):\n",
        "        graph = plt.figure()\n",
        "        plt.plot(range(len(record_loss_dict[\"train\"])), record_loss_dict[\"train\"], label=\"Training\")\n",
        "        plt.plot(range(len(record_loss_dict[\"val\"])), record_loss_dict[\"val\"], label=\"Validation\")\n",
        "        plt.legend()\n",
        "        plt.xlabel(\"Epoch\")\n",
        "        plt.ylabel(\"Loss\")\n",
        "        plt.title(\"loss: train=\" + str(record_loss_dict[\"train\"][-1]) + \", val=\" + str(record_loss_dict[\"val\"][-1]))\n",
        "        plt.show()\n",
        "\n",
        "num_epochs = 1000\n",
        "train_csv_path = \"/content/train.csv\"\n",
        "oil_csv_path = \"/content/oil.csv\"\n",
        "holiday_csv_path = \"/content/holidays_events.csv\"\n",
        "batch_size = 100\n",
        "lr = 0.01\n",
        "save_weights_path_list = [\"/content/enc_weights.pth\", \"/content/dec_weights.pth\"]\n",
        "\n",
        "trainer = Trainer(num_epochs, train_csv_path, oil_csv_path, holiday_csv_path, batch_size, lr, save_weights_path_list)\n",
        "trainer.train()"
      ]
    },
    {
      "cell_type": "markdown",
      "metadata": {
        "id": "06vF2z1Y4v5X"
      },
      "source": [
        "# Evaluation"
      ]
    },
    {
      "cell_type": "code",
      "execution_count": null,
      "metadata": {
        "id": "iVoPgqpCva4O"
      },
      "outputs": [],
      "source": [
        "import time\n",
        "import pandas as pd\n",
        "\n",
        "import torch\n",
        "\n",
        "class Evaluator:\n",
        "    def __init__(self, train_csv_path, test_csv_path, oil_csv_path, holiday_csv_path, weights_path, save_csv_path_list):\n",
        "        self.device = torch.device(\"cuda:0\" if torch.cuda.is_available() else \"cpu\")\n",
        "        print(\"self.device = \", self.device)\n",
        "\n",
        "        past_size = 16\n",
        "\n",
        "        self.test_csv_path = test_csv_path\n",
        "        self.save_csv_path = save_csv_path\n",
        "        datalist = makeDataList([train_csv_path, test_csv_path], oil_csv_path, holiday_csv_path)\n",
        "        self.sale_columns = getSaleColumns(datalist)\n",
        "        self.past_datalist = datalist.loc[datalist[self.sale_columns[0]].isna() == False][-past_size:]\n",
        "        self.future_datalist = datalist.loc[datalist[self.sale_columns[0]].isna()].drop(self.sale_columns, axis=1)\n",
        "\n",
        "        hidden_dim = 256\n",
        "        num_layers = 3\n",
        "        self.enc = Encoder(\n",
        "            input_dim = self.past_datalist.shape[1],\n",
        "            hidden_dim = hidden_dim,\n",
        "            num_layers = num_layers\n",
        "        )\n",
        "        self.dec = Decoder(\n",
        "            input_dim = self.future_datalist.shape[1] + len(self.sale_columns),\n",
        "            hidden_dim = hidden_dim,\n",
        "            output_dim = len(self.sale_columns),\n",
        "            num_layers = num_layers\n",
        "        )\n",
        "        self.enc.to(self.device)\n",
        "        self.dec.to(self.device)\n",
        "        if torch.cuda.is_available():\n",
        "            loaded_enc_weights = torch.load(weights_path_list[0])\n",
        "            loaded_dec_weights = torch.load(weights_path_list[1])\n",
        "            print(\"Weights have been loaded [GPU -> GPU]:\", weights_path_list)\n",
        "        else:\n",
        "            loaded_enc_weights = torch.load(weights_path_list[0], map_location={\"cuda:0\": \"cpu\"})\n",
        "            loaded_dec_weights = torch.load(weights_path_list[1], map_location={\"cuda:0\": \"cpu\"})\n",
        "            print(\"Weights have been loaded [GPU -> CPU]:\", weights_path_list)\n",
        "        self.enc.load_state_dict(loaded_enc_weights)\n",
        "        self.dec.load_state_dict(loaded_dec_weights)\n",
        "        print(self.enc)\n",
        "        print(self.dec)\n",
        "\n",
        "    def evaluate(self):\n",
        "        ## time\n",
        "        start_clock = time.time()\n",
        "        ## setting\n",
        "        self.enc.eval()\n",
        "        self.dec.eval()\n",
        "        ## ndarray -> tensor\n",
        "        inputs_past = torch.from_numpy(self.past_datalist.values.astype(np.float32)).unsqueeze(0).to(self.device)\n",
        "        inputs_future = torch.from_numpy(self.future_datalist.values.astype(np.float32)).unsqueeze(0).to(self.device)\n",
        "        sales = torch.from_numpy(self.past_datalist[self.sale_columns].values[-1].astype(np.float32)).unsqueeze(0).to(self.device)\n",
        "        print(\"inputs_future.size() =\", inputs_future.size())\n",
        "        ## forward\n",
        "        with torch.no_grad():\n",
        "            h = self.enc(inputs_past)\n",
        "            for i in range(len(self.future_datalist)):\n",
        "                dec_inputs = torch.cat((inputs_future[:, i, :], sales[-1].unsqueeze(0)), dim=1).unsqueeze(1)\n",
        "                outputs, h = self.dec(dec_inputs, h)\n",
        "                if i == 0:\n",
        "                    sales = outputs\n",
        "                else:\n",
        "                    sales = torch.cat((sales, outputs), dim=0)\n",
        "        ## save\n",
        "        self.writeCSV(sales)\n",
        "        ## time\n",
        "        mins = (time.time() - start_clock) // 60\n",
        "        secs = (time.time() - start_clock) % 60\n",
        "        print (\"evaluation time: \", mins, \" [min] \", secs, \" [sec]\")\n",
        "\n",
        "    def writeCSV(self, sales):\n",
        "        result_df = pd.DataFrame({\"id\": pd.read_csv(self.test_csv_path)[\"id\"].values, \"sales\": sales.cpu().detach().numpy().reshape(-1)})\n",
        "        result_df.to_csv(self.save_csv_path, index=False)\n",
        "        print(result_df)\n",
        "\n",
        "\n",
        "train_csv_path = \"/content/train.csv\"\n",
        "test_csv_path = \"/content/test.csv\"\n",
        "oil_csv_path = \"/content/oil.csv\"\n",
        "holiday_csv_path = \"/content/holidays_events.csv\"\n",
        "\n",
        "weights_path_list = [\"/content/enc_weights.pth\", \"/content/dec_weights.pth\"]\n",
        "save_csv_path = \"/content/submission.csv\"\n",
        "\n",
        "evaluator = Evaluator(train_csv_path, test_csv_path, oil_csv_path, holiday_csv_path, weights_path_list, save_csv_path)\n",
        "evaluator.evaluate()"
      ]
    },
    {
      "cell_type": "markdown",
      "metadata": {
        "id": "jHkUaHmsd0Dg"
      },
      "source": [
        "# Submission"
      ]
    },
    {
      "cell_type": "code",
      "execution_count": null,
      "metadata": {
        "id": "auZnpDhXQbzA"
      },
      "outputs": [],
      "source": [
        "import sys\n",
        "\n",
        "print(\"Submit the file? (y/n)\")\n",
        "ans = input()\n",
        "while ans != \"y\" and ans != \"n\":\n",
        "    print(\"Type 'y' or 'n'\")\n",
        "    ans = input()\n",
        "if ans == \"y\":\n",
        "    !kaggle competitions submit -c store-sales-time-series-forecasting -f submission.csv -m \"store_sales_rnn_seq2seq.ipynb\""
      ]
    }
  ],
  "metadata": {
    "accelerator": "GPU",
    "colab": {
      "collapsed_sections": [],
      "name": "store_sales_rnn_seq2seq.ipynb",
      "provenance": [],
      "authorship_tag": "ABX9TyPR1sZYnNFVnKuDVNhIUd51",
      "include_colab_link": true
    },
    "kernelspec": {
      "display_name": "Python 3",
      "name": "python3"
    },
    "language_info": {
      "name": "python"
    }
  },
  "nbformat": 4,
  "nbformat_minor": 0
}